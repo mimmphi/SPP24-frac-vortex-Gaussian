{
 "cells": [
  {
   "cell_type": "code",
   "execution_count": 1,
   "id": "73a9614d-747b-4ac0-ab16-66b3df169f26",
   "metadata": {
    "tags": []
   },
   "outputs": [],
   "source": [
    "import numpy as np\n",
    "import matplotlib.pyplot as plt\n",
    "import pandas as pd\n",
    "import matplotlib.animation as anim\n",
    "from skimage import color"
   ]
  },
  {
   "cell_type": "markdown",
   "id": "44983c98-163d-43e6-8c97-eeab830a6fe7",
   "metadata": {
    "tags": []
   },
   "source": [
    "#### Functions\n",
    "(For image processing)"
   ]
  },
  {
   "cell_type": "raw",
   "id": "2025f38f-fd5d-4b9b-83d6-e4874e233574",
   "metadata": {
    "tags": []
   },
   "source": [
    "coef = [0.299, 0.587, 0.114] # R, G, B coefficients for conversion to grayscale, respectively\n",
    "\n",
    "def rgb_to_gray(folder, l, P1):\n",
    "    '''converts images to grayscale'''\n",
    "    # 1\n",
    "    if l == 'bg':\n",
    "        file = f'{folder}/background.png'\n",
    "    else:\n",
    "        file = f'{folder}/l={l}, P1={P1}.png' # get filename\n",
    "    \n",
    "    img = plt.imread(f'{file}') # import the image as an array of RGB values per pixel\n",
    "    \n",
    "    # 2.\n",
    "    # copy the values to a new array (I am not allowed to operate directly on the imported image)\n",
    "    # mod = img.copy().astype('float64')\n",
    "    # for i, c in enumerate(coef):\n",
    "    #     mod[:,:,i] *= c # multiply the ith color value by its corresponding coefficient\n",
    "    #                     # (e.g. 0 (red - first of the three) : 0.299 (multiplication factor))\n",
    "    # gray = np.sum(mod, axis=2) # sum the RGB values per pixel\n",
    "    \n",
    "    # 2 alt - skimage\n",
    "    gray = color.rgb2gray(img)\n",
    "    return gray"
   ]
  },
  {
   "cell_type": "raw",
   "id": "4819e1ae-f528-4ac0-8cd6-777d84e0959c",
   "metadata": {
    "tags": []
   },
   "source": [
    "def store_imgs(folder, l_min, l_max, l_inc, p1_min, p1_max=1):\n",
    "    '''stores the image arrays into one array.'''\n",
    "    bg_gray = rgb_to_gray(folder, l='bg', P1='') # get the background image\n",
    "    l_arr = np.round(np.arange(l_min, l_max+l_inc, l_inc), 2)\n",
    "    if p1_min == p1_max:\n",
    "        p1_arr = [p1_min]\n",
    "    else:\n",
    "        p1_arr = np.round(np.linspace(start=p1_min, stop=p1_max, num=11), 2)\n",
    "    \n",
    "    imgs = [] # list of image arrays\n",
    "\n",
    "    # process and store the image arrays\n",
    "    for l in l_arr:\n",
    "        for p1 in p1_arr:\n",
    "            gray = rgb_to_gray(folder, l=l, P1=p1) #- bg_gray\n",
    "            gray /= np.max(gray)\n",
    "            imgs.append(gray)\n",
    "\n",
    "    imgs = np.array(imgs).reshape(len(l_arr), len(p1_arr), 2016, 2016)\n",
    "    return imgs"
   ]
  },
  {
   "cell_type": "raw",
   "id": "36714387-7516-4632-9ca6-1411507dbecd",
   "metadata": {
    "tags": []
   },
   "source": [
    "def plot_grid_imgs(img_arr):\n",
    "    '''can be called directly after setting a figure and axes to display the images.'''\n",
    "    ny, nx = img_arr.shape[:2]\n",
    "    fig, axs = plt.subplots(ny, nx, sharex=all, sharey=all)\n",
    "\n",
    "    for i, ax in enumerate(axs.flat):\n",
    "        r = i//nx; c = i-nx*r\n",
    "        ax.set(xlabel=f'P1={c*0.1}', ylabel=f'l={r}')\n",
    "        ax.imshow(img_arr[r, c, :, :], cmap='hot')\n",
    "\n",
    "    fig.set_size_inches(w = nx*5, h = ny*5)"
   ]
  },
  {
   "cell_type": "raw",
   "id": "0317f44b-363a-430b-9f2e-073746acbff3",
   "metadata": {
    "tags": []
   },
   "source": [
    "def get_centroid(img):\n",
    "    '''gets the (position of) the intensity centroid from an image'''\n",
    "    ny, nx = img.shape # an image has 2016 x 2016 pixels\n",
    "    \n",
    "    # make coordinate labels\n",
    "    nX = np.linspace(start=1, stop=2016, num=2016, dtype=int);\n",
    "    nY = nX # the image is a square matrix\n",
    "    X, Y = np.meshgrid(nX, nY)\n",
    "    \n",
    "    # the center is the midpoint in x and in y: (max + min)/2\n",
    "    x0 = (nx+1)/2; y0 = (ny+1)/2  # (x0, y0) = (1008.5, 1008.5)\n",
    "\n",
    "    # each pixel's x and y distance from the center\n",
    "    dX = X - x0; dY = Y - y0\n",
    "    \n",
    "    # get the centroid\n",
    "    ## sum of product of intensities and distances from center\n",
    "    xm_sum = np.sum(img*dX); ym_sum = np.sum(img*dY)\n",
    "    \n",
    "    ## sum of intensities (pixel values) of image\n",
    "    Isum = np.sum(img)\n",
    "    \n",
    "    ## centroid coordinates\n",
    "    xc = xm_sum/Isum; yc = ym_sum/Isum # as Cartesian\n",
    "    # return np.sqrt(xc**2 + yc**2) # as radial coordinate\n",
    "    return yc"
   ]
  },
  {
   "cell_type": "markdown",
   "id": "6b5a9a27-6b0a-405a-a27c-e8879e01a802",
   "metadata": {},
   "source": [
    "come up with a common function for animation. That is, learn how to write animation function that takes multiple arguments.\n",
    "\n",
    "03-07-2024 - as of now, I need to define a new animation function for each set of images, because I only know how to write animation function that takes only one argument."
   ]
  },
  {
   "cell_type": "markdown",
   "id": "3382eedc-a490-4f07-b7a3-6b8de4d91aba",
   "metadata": {},
   "source": [
    "[low prio] additional cleaning for displaying images. (see previous versions of this notebook)"
   ]
  },
  {
   "cell_type": "raw",
   "id": "987fc63f-0088-417a-8c67-83cb79127e40",
   "metadata": {
    "tags": []
   },
   "source": [
    "def get_sum_pixels(img):\n",
    "    sums = np.sum(img, axis=(2,3)) # this should be a 2-dimensional array: rows corresponding to l, columns corresponding to p1\n",
    "    return sums"
   ]
  },
  {
   "cell_type": "markdown",
   "id": "13d1a8bc-0e2d-4e2e-98c2-4cda6e5578c9",
   "metadata": {
    "tags": []
   },
   "source": [
    "### integer $l$, varying phase completeness"
   ]
  },
  {
   "cell_type": "raw",
   "id": "c75ee926-5cc8-4e82-8627-0d67e9a1fde1",
   "metadata": {
    "tags": []
   },
   "source": [
    "# the array of images for LG intensity profiles\n",
    "int_imgs = store_imgs(folder='LG beams', l_min=1, l_max=5, l_inc=1, p1_min=0, p1_max=1)\n",
    "int_imgs.shape"
   ]
  },
  {
   "cell_type": "markdown",
   "id": "2ea51ae7-ea0e-449b-8c49-8f738a75208b",
   "metadata": {},
   "source": [
    "for fixing - labels should be $l \\in [1, 5]$ not $l \\in [0, 4]$"
   ]
  },
  {
   "cell_type": "code",
   "execution_count": 2,
   "id": "139aa93f-3f4a-4e7d-89c2-ea02b032df83",
   "metadata": {
    "tags": []
   },
   "outputs": [],
   "source": [
    "# plot_grid_imgs(int_imgs) # shape (5, 11)"
   ]
  },
  {
   "cell_type": "markdown",
   "id": "94377db8-781b-454b-a040-1b058167e00e",
   "metadata": {
    "tags": []
   },
   "source": [
    "#### \"raw\" intensity profile\n",
    "sum of all pixel values"
   ]
  },
  {
   "cell_type": "markdown",
   "id": "b5555aee-1a5e-42ce-8a65-ae038fabc079",
   "metadata": {},
   "source": [
    "refer to: Baluyot & Hermosa, \"Intensity profiles and propagation of optical\n",
    "beams with bored **helical** phase\""
   ]
  },
  {
   "cell_type": "raw",
   "id": "b9ddc84e-5767-44b5-85e5-2826c1a2ae8d",
   "metadata": {},
   "source": [
    "LG_i_sums = get_sum_pixels(int_imgs)"
   ]
  },
  {
   "cell_type": "raw",
   "id": "8c75e461-00c2-4d1b-af8d-9cb94ceb0bdd",
   "metadata": {
    "tags": []
   },
   "source": [
    "p1_arr = np.round(np.linspace(start=0, stop=1, num=11), 2)\n",
    "\n",
    "fig, ax = plt.subplots()\n",
    "for l in range(5):\n",
    "    ax.plot(p1_arr, LG_i_sums[l], label=f'l={l+1}', marker='o')\n",
    "\n",
    "ax.legend()\n",
    "ax.set_title('Sum of pixel values at different retention fraction, for different topological charge')\n",
    "fig.set_size_inches(10, 4)"
   ]
  },
  {
   "cell_type": "markdown",
   "id": "fcb614af-10cd-4231-ba47-2cb6c7203553",
   "metadata": {},
   "source": [
    "mod for presentation (optional):\n",
    "- normalization to a higher maximum: increase the intensity of the beams without changing the relative intensities betw. pics\n",
    "- but use raw images for data analysis!"
   ]
  },
  {
   "cell_type": "markdown",
   "id": "27ae1ad9-2f78-420c-bfbe-7447a2fc2685",
   "metadata": {
    "tags": []
   },
   "source": [
    "#### cylindrical lens\n",
    "12/02/2024\n",
    "Alperin, et al. 2016"
   ]
  },
  {
   "cell_type": "raw",
   "id": "c118a3b3-686d-4245-96d0-345b9a5fb559",
   "metadata": {
    "tags": []
   },
   "source": [
    "cyl_int_imgs = store_imgs(folder='cyl lens', l_min=0, l_max=5, l_inc=1, p1_min=0.0)"
   ]
  },
  {
   "cell_type": "raw",
   "id": "e9b0572c-3146-4c01-8fed-08ef795fdbd5",
   "metadata": {
    "tags": []
   },
   "source": [
    "# plot_grid_imgs(cyl_int_imgs)"
   ]
  },
  {
   "cell_type": "markdown",
   "id": "88834146-99e5-4b0d-96f3-3eacca62ae23",
   "metadata": {},
   "source": [
    "for now, only the complete phase (P1=1.0) is animated"
   ]
  },
  {
   "cell_type": "raw",
   "id": "fe4ac418-77c4-41e1-a105-412bd4572513",
   "metadata": {
    "tags": []
   },
   "source": [
    "def show_im_cyl_int(n):\n",
    "    img = cyl_int_imgs[n, -1, :, :]\n",
    "    ax.clear()\n",
    "    ax.imshow(img, cmap='hot', animated=True)\n",
    "    ax.set_title(f'l = {n}')"
   ]
  },
  {
   "cell_type": "raw",
   "id": "ab14ed84-8108-4a44-be2f-962e616e1011",
   "metadata": {
    "tags": []
   },
   "source": [
    "%matplotlib tk\n",
    "fig, ax = plt.subplots()\n",
    "\n",
    "animate = anim.FuncAnimation(fig, show_im_cyl_int, frames=cyl_int_imgs.shape[0],\n",
    "                             interval=100, repeat_delay=1000)\n",
    "plt.show()\n",
    "# animate.save(filename='rotating_fringes.gif', writer='pillow')\n",
    "\n",
    "# fig.clf()"
   ]
  },
  {
   "cell_type": "markdown",
   "id": "6d62dc1c-72fd-4ed9-92d0-4728bdc6e6a2",
   "metadata": {},
   "source": [
    "sum of pixel values"
   ]
  },
  {
   "cell_type": "raw",
   "id": "f81be1f7-4a6f-47de-b774-c5bc4a3422f8",
   "metadata": {
    "tags": []
   },
   "source": [
    "cyl_int_sums = get_sum_pixels(cyl_int_imgs)\n",
    "np1 = cyl_int_sums.shape[1]\n",
    "p1_arr = np.linspace(start=0, stop=1, num=np1)\n",
    "\n",
    "fig, ax = plt.subplots()\n",
    "for l in range(6):\n",
    "    ax.plot(p1_arr, cyl_int_sums[l], label=f'l={l}', marker='o')\n",
    "\n",
    "ax.legend()\n",
    "ax.set_title('Sum of pixel values at different retention fraction, for different topological charge')\n",
    "fig.set_size_inches(10, 4)"
   ]
  },
  {
   "cell_type": "markdown",
   "id": "ab1d43c1-feff-4b96-bae7-8036bb066fe5",
   "metadata": {
    "jp-MarkdownHeadingCollapsed": true,
    "tags": []
   },
   "source": [
    "### fractional $l$ = varying phase completeness\n",
    "\n",
    "method: cylindrical lens\n",
    "\n",
    "increments of 0.2, $l \\in [3, 5]$ (ignore the labels at the extreme left - they're wrong)\\\n",
    "03-07-2024 So far, operating on __complete__ phase, to verify if taking the centroid is a suitable method to measure OAM (method in Alperin's paper)"
   ]
  },
  {
   "cell_type": "raw",
   "id": "b633a09b-01a2-4960-aa0c-eb8465558d14",
   "metadata": {
    "tags": []
   },
   "source": [
    "cyl_frac_imgs = store_imgs(folder='cyl lens frac l', l_min=3, l_max=5.0, l_inc=0.2, p1_min=0.0)\n",
    "\n",
    "cyl_frac_imgs.shape"
   ]
  },
  {
   "cell_type": "raw",
   "id": "4f5b9fc5-0dc7-4ab5-b1e0-75a16adb7aa3",
   "metadata": {
    "tags": []
   },
   "source": [
    "plt.imread('03-08-2024 cyl lens frac l/background.png').shape"
   ]
  },
  {
   "cell_type": "markdown",
   "id": "13d255ec-b51e-4082-9489-2115f7a945fa",
   "metadata": {
    "tags": []
   },
   "source": [
    "### fractional $l$ = complete phase only"
   ]
  },
  {
   "cell_type": "markdown",
   "id": "c5068ff6-9ec4-466c-8e11-e648994803ea",
   "metadata": {
    "tags": []
   },
   "source": [
    "#### cylindrical lens"
   ]
  },
  {
   "cell_type": "raw",
   "id": "288739c2-658a-464c-bb06-ae4852d1c961",
   "metadata": {
    "tags": []
   },
   "source": [
    "cyl_frac_imgs = store_imgs(folder='03-08-2024 cyl lens frac l', l_min=0, l_max=5.0, l_inc=0.1, p1_min=1.0)\n",
    "\n",
    "cyl_frac_imgs.shape"
   ]
  },
  {
   "cell_type": "code",
   "execution_count": 3,
   "id": "4c93bc74-3c1b-4701-88f9-6b0b9c44fe21",
   "metadata": {
    "tags": []
   },
   "outputs": [],
   "source": [
    "# plot_grid_imgs(cyl_frac_imgs)"
   ]
  },
  {
   "cell_type": "markdown",
   "id": "4a2ace58-0ec8-436c-8014-7bda17b01516",
   "metadata": {},
   "source": [
    "Animate only the complete phase"
   ]
  },
  {
   "cell_type": "raw",
   "id": "dc0a7a62-9e40-4ee7-877f-da79671ae1d7",
   "metadata": {
    "tags": []
   },
   "source": [
    "s = cyl_frac_imgs[:, -1, :, :]\n",
    "s.shape\n",
    "s[0, :, :].shape"
   ]
  },
  {
   "cell_type": "raw",
   "id": "31186047-2853-4e9d-a6da-b11eba4423f5",
   "metadata": {
    "tags": []
   },
   "source": [
    "def show_im_cyl_frac(n):\n",
    "    img = cyl_frac_imgs[n, -1, :, :]\n",
    "    ax.clear()\n",
    "    ax.imshow(img, cmap='hot', animated=True)\n",
    "    ax.set_title(f'l = {np.round(n*0.1, 2)}')"
   ]
  },
  {
   "cell_type": "raw",
   "id": "d8bdc717-f7eb-4407-97f1-bd9626989297",
   "metadata": {
    "tags": []
   },
   "source": [
    "%matplotlib tk\n",
    "fig, ax = plt.subplots()\n",
    "\n",
    "animate = anim.FuncAnimation(fig, show_im_cyl_frac, frames=cyl_frac_imgs.shape[0],\n",
    "                             interval=100, repeat_delay=800)\n",
    "plt.show()\n",
    "animate.save(filename='frac l.gif', writer='pillow')\n",
    "\n",
    "# fig.clf()"
   ]
  },
  {
   "cell_type": "markdown",
   "id": "88462a1e-627a-49e0-b4dd-5d9c376bfa31",
   "metadata": {
    "jp-MarkdownHeadingCollapsed": true,
    "tags": []
   },
   "source": [
    "##### centroid\n",
    "For images of beams passed through cylindrical lens\n",
    "centroid ~ center of mass (where mass : intensity)"
   ]
  },
  {
   "cell_type": "raw",
   "id": "3305cff2-98ba-46f2-9084-252e7f16a668",
   "metadata": {
    "tags": []
   },
   "source": [
    "plt.imshow(cyl_frac_imgs[0,0,:,:])"
   ]
  },
  {
   "cell_type": "raw",
   "id": "fc1165ec-b574-46e0-8e93-ea58bc193ea1",
   "metadata": {
    "tags": []
   },
   "source": [
    "cyl_frac_centroids = [get_centroid(cyl_frac_imgs[i, 0, :, :]) for i in range(0, cyl_frac_imgs.shape[0])]\n",
    "\n",
    "l = np.linspace(start=0, stop=5.0, num=51)"
   ]
  },
  {
   "cell_type": "raw",
   "id": "80da48ac-2c03-461c-8b7a-582a97b6ef64",
   "metadata": {
    "tags": []
   },
   "source": [
    "%matplotlib inline\n",
    "\n",
    "fig, ax = plt.subplots()\n",
    "ax.plot(l, cyl_frac_centroids, marker='o')\n",
    "ax.set(xlabel=r'topological charge $l$', ylabel='Intensity centroid $R$ (pixels)',\n",
    "      title='Centroid vs $l$, $l \\in [0, 5.0, 0.1]$, complete phase map',\n",
    "      xticks=l)\n",
    "fig.set_size_inches(20, 4.8)"
   ]
  },
  {
   "cell_type": "raw",
   "id": "4ff172cb-5283-42fb-ae09-fdf92b88d72a",
   "metadata": {
    "tags": []
   },
   "source": [
    "%matplotlib inline\n",
    "# show the integer l only\n",
    "\n",
    "fig, ax = plt.subplots()\n",
    "ax.plot(l[::10], cyl_frac_centroids[::10], marker='o')\n",
    "ax.set(xlabel=r'topological charge $l$', ylabel='Intensity centroid $R$ (pixels)',\n",
    "      title='Centroid vs $l$, $l \\in [0, 5.0, 0.1]$, complete phase map',\n",
    "      xticks=l[::10])\n",
    "fig.set_size_inches(20, 4.8)"
   ]
  },
  {
   "cell_type": "markdown",
   "id": "c99c58d2-e0c0-4be6-9c57-080ed9c1d544",
   "metadata": {},
   "source": [
    "Now plot the centroid __w.r.t. centroid at $l=0$__"
   ]
  },
  {
   "cell_type": "raw",
   "id": "37990140-949a-4d20-810a-082cd9fb7c28",
   "metadata": {
    "tags": []
   },
   "source": [
    "rel_centroids = np.abs(cyl_frac_centroids - cyl_frac_centroids[0])\n",
    "\n",
    "fig, ax = plt.subplots()\n",
    "ax.plot(l, rel_centroids, marker='o')\n",
    "ax.set(xlabel=r'topological charge ($l$)', ylabel='Relative intensity centroid',\n",
    "      title='Centroid vs topological charge - $l \\in [0, 5.0, 1.0]$, complete phase map',\n",
    "      xticks=l)\n",
    "fig.set_size_inches(20, 4.8)"
   ]
  },
  {
   "cell_type": "markdown",
   "id": "b98250a4-7752-4975-b8df-0e95cf0dbad9",
   "metadata": {},
   "source": [
    "So far, the intensity centroid does not exhibit any clear relationship with topological charge. __Failed to replicate the graphs of Alperin (2016)__"
   ]
  },
  {
   "cell_type": "markdown",
   "id": "193311ec-3eda-413b-9727-129cbcd876e1",
   "metadata": {
    "jp-MarkdownHeadingCollapsed": true,
    "tags": []
   },
   "source": [
    "#### raw intensity profiles\n",
    "Can we use the known raw beam profile corresponding to topological charges to tell the __effective__ $l$ of incomplete phase?"
   ]
  },
  {
   "cell_type": "raw",
   "id": "ddd3ac19-dff1-47a3-84de-d8d124fdb0e8",
   "metadata": {
    "tags": []
   },
   "source": [
    "frac_imgs = store_imgs(folder='02-20-2024 frac l', l_min=3.0, l_max=5.0, l_inc=0.1, p1_min=1.0)\n",
    "frac_imgs.shape # (21, 1, 2016, 2016)"
   ]
  },
  {
   "cell_type": "raw",
   "id": "75bf7798-4910-4267-95ea-390b118bda2b",
   "metadata": {
    "tags": []
   },
   "source": [
    "raw = rgb_to_gray(folder='02-20-2024 frac l', l=3.0, P1=1.0)\n",
    "bg = rgb_to_gray(folder='02-20-2024 frac l', l='bg', P1='')\n",
    "sample = raw - bg\n",
    "sample /= np.max(sample)\n",
    "np.min(sample)"
   ]
  },
  {
   "cell_type": "raw",
   "id": "a8087ad9-aec0-4c98-b5da-a21eb3e23a77",
   "metadata": {
    "tags": []
   },
   "source": [
    "# frac_imgs[:,0,:,:].shape # (21, 2016, 2016)\n",
    "np.min(frac_imgs[:,0,:,:], axis=(1,2))"
   ]
  },
  {
   "cell_type": "raw",
   "id": "cb49fdec-b33e-434b-9db6-8910ba788a19",
   "metadata": {
    "tags": []
   },
   "source": [
    "%matplotlib inline\n",
    "# plot of fractional topological charges (P1=1.0)\n",
    "lnum = frac_imgs.shape[0] #21 \n",
    "\n",
    "fig, axs = plt.subplots(3, lnum//3, layout='constrained', gridspec_kw={'wspace':0.05, 'hspace':0.05}, \n",
    "                        figsize=(20, 4.8), sharex=True, sharey=True)\n",
    "\n",
    "for (i, ax) in enumerate(axs.flat):\n",
    "    im = ax.imshow(frac_imgs[i, 0, :, :], cmap='hot')\n",
    "    ax.set_title(f'$l=${np.round(3.0 + i*0.1, 2)}')\n",
    "\n",
    "# default fig size: [6.4, 4.8]\n",
    "fig.colorbar(im, ax=axs, shrink=0.6, pad=0.01)\n",
    "fig.suptitle('Intensity profiles of LG beams for $l \\in [3.0,5.0]$, 0.1 interval')"
   ]
  },
  {
   "cell_type": "markdown",
   "id": "5652a678-af6f-4079-bf2b-8f7d65aba734",
   "metadata": {
    "tags": []
   },
   "source": [
    "[convert the next two cells to code when you need to export the animation (for presentation)]"
   ]
  },
  {
   "cell_type": "raw",
   "id": "266cbdee-93e6-428c-bb37-716450055fa4",
   "metadata": {
    "tags": []
   },
   "source": [
    "def show_im_frac(n):\n",
    "    img = frac_imgs[n, -1, :, :]\n",
    "    ax.clear()\n",
    "    ax.imshow(img, cmap='hot', animated=True)\n",
    "    ax.set_title(f'l = {np.round(3.0 + n*0.1, 2)}')"
   ]
  },
  {
   "cell_type": "raw",
   "id": "3a556765-f141-4cfd-885e-358b3c6788bf",
   "metadata": {
    "tags": []
   },
   "source": [
    "%matplotlib tk\n",
    "fig, ax = plt.subplots()\n",
    "\n",
    "animate = anim.FuncAnimation(fig, show_im_frac, frames=frac_imgs.shape[0],\n",
    "                             interval=10, repeat_delay=50)\n",
    "plt.show()\n",
    "animate.save(filename='frac_l.gif', writer='pillow')\n",
    "\n",
    "# fig.clf()"
   ]
  },
  {
   "cell_type": "markdown",
   "id": "4e55cda7-b45e-43ea-afac-15ef898171a4",
   "metadata": {
    "tags": []
   },
   "source": [
    "#### Single mode fiber\n",
    "Projection of a Gaussian mode onto a shaped beam as the beam travels through the optical fiber. Voltage read from an oscilloscope."
   ]
  },
  {
   "cell_type": "markdown",
   "id": "9f9e64a8-fcec-44e6-9bf8-55489cf9579e",
   "metadata": {},
   "source": [
    "##### Statistics calculated in pythoh.\n",
    "Took the raw voltage readings per $l$ from oscilloscope. Computed the average & standard deviation in Python.\n"
   ]
  },
  {
   "cell_type": "code",
   "execution_count": 4,
   "id": "af6c3be4-13cc-41ed-a298-041d48176fbb",
   "metadata": {
    "tags": []
   },
   "outputs": [],
   "source": [
    "def aggregate(var, values):\n",
    "    conc = []\n",
    "    \n",
    "    # READ FILE\n",
    "    for i, v in enumerate(values):\n",
    "        try:\n",
    "            # importing\n",
    "            f = str(i).zfill(4)\n",
    "            V = pd.read_csv(f'05-02-2024 SMF/ALL{f}/F{f}CH1.CSV', sep=',', header=None, \n",
    "                            usecols=[4], names=[f'{v}'])\n",
    "            # timestamps aren't important, since all sheets have the same no. of data points (2500)\n",
    "            \n",
    "            # add to list of dataframes\n",
    "            conc.append(V)\n",
    "        \n",
    "        # catch corrupted or deleted files\n",
    "        except FileNotFoundError:\n",
    "            pass # move on to the next iteration\n",
    "        except UnicodeDecodeError:\n",
    "            pass\n",
    "        '''There are 2 possible errors (so far):\n",
    "        - filenotfound: we deleted the file because of either: corruption or repeat measurement\n",
    "        - unicode error: the file has no data on preview (hence only 1 row)'''\n",
    "    \n",
    "    return pd.concat(conc, axis=1) # join the voltage readings in the list"
   ]
  },
  {
   "cell_type": "markdown",
   "id": "5d62e11f-cce0-4354-b9b2-047e22fa5a4e",
   "metadata": {},
   "source": [
    "Import"
   ]
  },
  {
   "cell_type": "code",
   "execution_count": 5,
   "id": "2466b127-03fb-43f8-8b3e-94cb9cb800da",
   "metadata": {
    "tags": []
   },
   "outputs": [],
   "source": [
    "l = np.round(np.concatenate([np.linspace(start=0, stop=1, endpoint=False, num=20),\n",
    "                             np.linspace(start=1, stop=5, endpoint=True, num=41)], axis=0), 2)\n",
    "\n",
    "raw = aggregate(var='l', values=l)\n",
    "bg = pd.read_csv(f'05-02-2024 SMF/ALL0061/F0061CH1.CSV', sep=',', usecols=[4], header=None)"
   ]
  },
  {
   "cell_type": "markdown",
   "id": "96ce71e4-2bdf-4470-97b6-7494190ac75c",
   "metadata": {},
   "source": [
    "Cleaning\n",
    "\n",
    "\\begin{align}\n",
    "gain = 10 \\log\\left(\\frac{V_2}{V_1}\\right)\\\\\n",
    "ratio = \\frac{V_2}{V_1} = 10^{\\frac{gain}{10}}\n",
    "\\end{align}"
   ]
  },
  {
   "cell_type": "code",
   "execution_count": 6,
   "id": "0a3f70ac-1182-49bc-86f7-5ea122577d23",
   "metadata": {
    "tags": []
   },
   "outputs": [
    {
     "data": {
      "text/plain": [
       "(2500, 61)"
      ]
     },
     "execution_count": 6,
     "metadata": {},
     "output_type": "execute_result"
    }
   ],
   "source": [
    "# correct raw readings (l and bg) for photodetector gain\n",
    "gain = 50 # amplification in dB\n",
    "amp = 10**(gain/10) # direct ratio between voltages before and after photodetector\n",
    "raw /= amp\n",
    "bg /= amp\n",
    "\n",
    "# subtract background from l signal\n",
    "data = raw - bg.values\n",
    "data.shape # 2500 data points x 61 l values"
   ]
  },
  {
   "cell_type": "markdown",
   "id": "f25b6ee9-0ca9-4872-959d-ecd8b2bf4267",
   "metadata": {},
   "source": [
    "Compute statistics:\n",
    "standard error (standard deviation of the mean):\n",
    "$$\\sigma_{\\bar{x}} = \\frac{\\sigma_x}{\\sqrt{N}}$$\n",
    "where\n",
    "$$\\sigma_x = \\sqrt{\\frac{\\sum (x - \\bar{x})^2}{N-1}}$$"
   ]
  },
  {
   "cell_type": "code",
   "execution_count": 7,
   "id": "1fa2a11c-00f3-4b5c-8a72-475558354440",
   "metadata": {
    "tags": []
   },
   "outputs": [],
   "source": [
    "# take the best estimate of V -- the mean -- for each l:\n",
    "V_mean = data.aggregate(['mean', 'std'], axis=0).T\n",
    "\n",
    "# uncertainty: standard error\n",
    "V_mean['std'] /= np.sqrt(data.shape[0])"
   ]
  },
  {
   "cell_type": "markdown",
   "id": "467a43ea-8de0-4a4d-b221-c49846d03d56",
   "metadata": {},
   "source": [
    "sanity check: Is the data \"uniformly noisy\"? (There might be sharp features like the previous import, which I don't know the cause of.)"
   ]
  },
  {
   "cell_type": "raw",
   "id": "ee8cd063-a8c3-4c75-a970-5e5c0b03391d",
   "metadata": {
    "tags": []
   },
   "source": [
    "ls=5.0\n",
    "fig = plt.figure(figsize=(12, 4.8))\n",
    "plt.plot(data[f'{ls}'], label=f'l={ls}')\n",
    "plt.plot(bg, label='bg', color='gray')\n",
    "plt.legend()"
   ]
  },
  {
   "cell_type": "markdown",
   "id": "50cb1f79-b622-4c34-a82f-a616c056a798",
   "metadata": {
    "tags": []
   },
   "source": [
    "##### Plot.\n",
    "Highlight the coordinates of:\n",
    "- max\n",
    "- min"
   ]
  },
  {
   "cell_type": "code",
   "execution_count": 11,
   "id": "7b6029aa-9914-4554-b92f-cdf400da4287",
   "metadata": {
    "tags": []
   },
   "outputs": [
    {
     "data": {
      "image/png": "[encoded data removed]",
      "text/plain": [
       "<Figure size 1100x700 with 1 Axes>"
      ]
     },
     "metadata": {},
     "output_type": "display_data"
    }
   ],
   "source": [
    "fig, ax = plt.subplots(layout='constrained', figsize=[11., 7.])\n",
    "\n",
    "# plot values\n",
    "ax.scatter(l, V_mean['mean'], marker='.', label='best estimate')\n",
    "ax.errorbar(x=l, y=V_mean['mean'], yerr=V_mean['std'], \n",
    "            fmt='.', ecolor='gray', label='uncertainty')\n",
    "\n",
    "# should the error bars be bars or a shaded region?\n",
    "\n",
    "# highlight integer values\n",
    "V_intl = V_mean[l%1==0]['mean']\n",
    "ax.scatter(V_intl.index, V_intl, marker='o', color='red', label='at integer $l$')\n",
    "\n",
    "# for i, val in V_intl.iterrows():\n",
    "#     ax.annotate(text=np.round(V_intl.loc[i, 'mean V'], 5), xy=(i, val['mean V']), xytext=(i, -0.005), color='red')\n",
    "\n",
    "# plot parameters\n",
    "ax.set(xlabel='$l$', ylabel='$V_{mean}$ [mV]', xticks=l[::2], xticklabels=l[::2], \n",
    "          title=f'Mean voltage vs $l$')\n",
    "ax.tick_params(axis='x', labelrotation=45)\n",
    "ax.legend(loc='center right')\n",
    "fig.savefig(fname='SMF 05-02-2024.pdf')"
   ]
  },
  {
   "cell_type": "raw",
   "id": "86cc947a-502a-44e7-9f60-c6560f565059",
   "metadata": {
    "tags": []
   },
   "source": [
    "# varying P1 for varying l\n",
    "fig, ax = plt.subplots(layout='constrained', figsize=[8., 4.], )\n",
    "\n",
    "pplot_labels = [f'$l=${str(s)}' for s in V_mean_p.columns]\n",
    "p = V_mean_p.index\n",
    "ax.plot(p, V_mean_p, marker='.', label=pplot_labels)\n",
    "ax.set(xlabel='Fraction of phase map retained, $P1$', xticks=p,\n",
    "          ylabel='$V_{mean}$ [mV]', \n",
    "          title=f'Mean voltage vs $P1$')\n",
    "ax.legend(loc='center right')"
   ]
  },
  {
   "cell_type": "markdown",
   "id": "fa43f143-33cf-4c72-820b-acae1499d229",
   "metadata": {},
   "source": [
    "### to do - analysis\n",
    "- Should I curvefit?\n",
    "- test your functions, draw them out if you have to.\n",
    "- from literature, come up with other ways to quantify the OAM of beams (complete phase)"
   ]
  },
  {
   "cell_type": "markdown",
   "id": "9394e309-32aa-4fdc-b956-322f3a192942",
   "metadata": {
    "tags": []
   },
   "source": [
    "### Outlook"
   ]
  },
  {
   "cell_type": "markdown",
   "id": "673f3501-7722-4e16-916e-1cf3b63a801e",
   "metadata": {
    "jp-MarkdownHeadingCollapsed": true,
    "tags": []
   },
   "source": [
    "Other methods to characterize vortices: single mode fiber, interferometry.\n",
    "I also captured images of _negative_ topological charge through a cylindrical lens (not yet included in this notebook; I don't know if I will include it because there's nothing unexpected).\n",
    "\n",
    "What can I find using my results?\n",
    "- What is the threshold of the cylindrical lens being an effective way to quantify OAM? (based off Alperin)\n",
    "- Try **fractional topological charge** (the Russian paper)\n",
    "- What now is the topological charge when, for some initial l, the phase is more and more incomplete?\n",
    "\n",
    "\n",
    "More data processing to try:\n",
    "- Radon transform. What pattern will arise? With respect to what? is it more useful?\n",
    "- get the centroid\n",
    "- ~mode projection??~"
   ]
  }
 ],
 "metadata": {
  "kernelspec": {
   "display_name": "Python 3 (ipykernel)",
   "language": "python",
   "name": "python3"
  },
  "language_info": {
   "codemirror_mode": {
    "name": "ipython",
    "version": 3
   },
   "file_extension": ".py",
   "mimetype": "text/x-python",
   "name": "python",
   "nbconvert_exporter": "python",
   "pygments_lexer": "ipython3",
   "version": "3.11.5"
  }
 },
 "nbformat": 4,
 "nbformat_minor": 5
}
